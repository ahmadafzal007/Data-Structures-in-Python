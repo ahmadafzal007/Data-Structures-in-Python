{
 "cells": [
  {
   "cell_type": "markdown",
   "metadata": {},
   "source": [
    "**Understanding the Big O [O(n)] notation**"
   ]
  },
  {
   "cell_type": "code",
   "execution_count": 3,
   "metadata": {},
   "outputs": [],
   "source": [
    "def squared_numbers(nums):\n",
    "    squared_numbers = []\n",
    "    for n in nums:\n",
    "        squared_numbers.append(n**2)\n",
    "    return squared_numbers\n"
   ]
  },
  {
   "cell_type": "code",
   "execution_count": 5,
   "metadata": {},
   "outputs": [
    {
     "name": "stdout",
     "output_type": "stream",
     "text": [
      "[1, 4, 9, 16, 25]\n"
     ]
    }
   ],
   "source": [
    "array = [1, 2, 3, 4, 5]\n",
    "print(squared_numbers(array))"
   ]
  },
  {
   "cell_type": "markdown",
   "metadata": {},
   "source": [
    "in the above case the time complexity would be O(n) as it runs for n number of times where n is the size of the array"
   ]
  },
  {
   "cell_type": "markdown",
   "metadata": {},
   "source": [
    "**Example for O(n*2)**"
   ]
  },
  {
   "cell_type": "code",
   "execution_count": 15,
   "metadata": {},
   "outputs": [
    {
     "name": "stdout",
     "output_type": "stream",
     "text": [
      "3 is a string\n"
     ]
    }
   ],
   "source": [
    "numbers = [1, 2, 3, 3, 5]\n",
    "\n",
    "for i in range(len(numbers)):\n",
    "   for j in range(i + 1, len(numbers)):\n",
    "      if numbers[i] == numbers[j]:\n",
    "         print(numbers[i] , \"is a string\")\n",
    "         break"
   ]
  },
  {
   "cell_type": "markdown",
   "metadata": {},
   "source": [
    "In the above example the time complexity would be O(n*2) as it runs n*2 number of times"
   ]
  },
  {
   "cell_type": "markdown",
   "metadata": {},
   "source": [
    "Let's fimiliarize with .insert and .remove function"
   ]
  },
  {
   "cell_type": "code",
   "execution_count": 22,
   "metadata": {},
   "outputs": [
    {
     "name": "stdout",
     "output_type": "stream",
     "text": [
      "[1, 2, 6, 3, 4, 5]\n",
      "[1, 2, 6, 4, 5]\n"
     ]
    }
   ],
   "source": [
    "num = [1, 2, 3, 4, 5]\n",
    "num.insert(2, 6)\n",
    "print(num)\n",
    "num.remove(3)\n",
    "print(num)"
   ]
  },
  {
   "cell_type": "markdown",
   "metadata": {},
   "source": [
    "# Exercise: Array DataStructure"
   ]
  },
  {
   "cell_type": "markdown",
   "metadata": {},
   "source": [
    "Let us say your expense for every month are listed below,\n",
    "\n",
    "January - 2200\n",
    "\n",
    "February - 2350\n",
    "\n",
    "March - 2600\n",
    "\n",
    "April - 2130\n",
    "\n",
    "May - 2190\n",
    "\n",
    "Create a list to store these monthly expenses and using that find out,"
   ]
  },
  {
   "cell_type": "code",
   "execution_count": 23,
   "metadata": {},
   "outputs": [],
   "source": [
    "expense = [2200, 2350, 2600, 2130, 2190]"
   ]
  },
  {
   "cell_type": "markdown",
   "metadata": {},
   "source": [
    "1. In Feb, how many dollars you spent extra compare to January?\n",
    "\n",
    "2. Find out your total expense in first quarter (first three months) of the year.\n",
    "\n",
    "3. Find out if you spent exactly 2000 dollars in any month\n",
    "\n",
    "4. June month just finished and your expense is 1980 dollar. Add this item to our monthly expense list\n",
    "\n",
    "5. You returned an item that you bought in a month of April and\n",
    "got a refund of 200$. Make a correction to your monthly expense list\n",
    "based on this"
   ]
  },
  {
   "cell_type": "code",
   "execution_count": 24,
   "metadata": {},
   "outputs": [
    {
     "name": "stdout",
     "output_type": "stream",
     "text": [
      "150 extra dollars spent in Feb compared to Jan\n"
     ]
    }
   ],
   "source": [
    "# 1. In Feb, how many dollars you spent extra compare to January?\n",
    "extra_dollars = expense[1] - expense[0]\n",
    "print(extra_dollars, \"extra dollars spent in Feb compared to Jan\")"
   ]
  },
  {
   "cell_type": "code",
   "execution_count": 31,
   "metadata": {},
   "outputs": [
    {
     "name": "stdout",
     "output_type": "stream",
     "text": [
      "Total expense in first quarter: 7150\n"
     ]
    }
   ],
   "source": [
    "# 2. Find out your total expense in first quarter (first three months) of the year.\n",
    "total_expense = expense[0] + expense[1] + expense[2]\n",
    "print(\"Total expense in first quarter:\", total_expense)\n"
   ]
  },
  {
   "cell_type": "code",
   "execution_count": 30,
   "metadata": {},
   "outputs": [
    {
     "name": "stdout",
     "output_type": "stream",
     "text": [
      "No, I did not spend 2000 dollars in a month\n"
     ]
    }
   ],
   "source": [
    "# 3. Find out if you spent exactly 2000 dollars in any month\n",
    "if 2000 in expense:\n",
    "    print(\"Yes, I spent 2000 dollars in a month\")\n",
    "else:\n",
    "    print(\"No, I did not spend 2000 dollars in a month\")"
   ]
  },
  {
   "cell_type": "code",
   "execution_count": 28,
   "metadata": {},
   "outputs": [
    {
     "name": "stdout",
     "output_type": "stream",
     "text": [
      "[2200, 2350, 2600, 2130, 2190, 1980]\n"
     ]
    }
   ],
   "source": [
    "# 4. June month just finished and your expense is 1980 dollar. Add this item to our monthly expense list\n",
    "expense.append(1980)\n",
    "print(expense)\n"
   ]
  },
  {
   "cell_type": "code",
   "execution_count": 29,
   "metadata": {},
   "outputs": [
    {
     "name": "stdout",
     "output_type": "stream",
     "text": [
      "[2200, 2350, 2600, 1930, 2190, 1980]\n"
     ]
    }
   ],
   "source": [
    "#5. You returned an item that you bought in a month of April and got a refund of 200$. Make a correction to your monthly expense list based on this\n",
    "expense[3] = expense[3] - 200\n",
    "print(expense)"
   ]
  },
  {
   "cell_type": "markdown",
   "metadata": {},
   "source": [
    "You have a list of your favourite marvel super heros.\n",
    "\n",
    "heros=['spider man','thor','hulk','iron man','captain america']"
   ]
  },
  {
   "cell_type": "code",
   "execution_count": 52,
   "metadata": {},
   "outputs": [],
   "source": [
    "heros = ['spider man', 'thor', 'hulk', 'iron', 'captain']"
   ]
  },
  {
   "cell_type": "markdown",
   "metadata": {},
   "source": [
    "1. Length of the list\n",
    "\n",
    "2. Add 'black panther' at the end of this list\n",
    "\n",
    "3. You realize that you need to add 'black panther' after 'hulk',\n",
    "   so remove it from the list first and then add it after 'hulk'\n",
    "\n",
    "4. Now you don't like thor and hulk because they get angry easily :)\n",
    "   So you want to remove thor and hulk from list and replace them with doctor strange (because he is cool).\n",
    "   Do that with one line of code.\n",
    "   \n",
    "5. Sort the heros list in alphabetical order (Hint. Use dir() functions to list down all functions available in list)"
   ]
  },
  {
   "cell_type": "code",
   "execution_count": 53,
   "metadata": {},
   "outputs": [
    {
     "name": "stdout",
     "output_type": "stream",
     "text": [
      "5\n"
     ]
    }
   ],
   "source": [
    "# length of list\n",
    "print(len(heros))"
   ]
  },
  {
   "cell_type": "code",
   "execution_count": 54,
   "metadata": {},
   "outputs": [
    {
     "name": "stdout",
     "output_type": "stream",
     "text": [
      "['spider man', 'thor', 'hulk', 'iron', 'captain', 'black panther']\n"
     ]
    }
   ],
   "source": [
    "# 2. Add 'black panther' at the end of this list\n",
    "heros.append('black panther')\n",
    "print(heros)    "
   ]
  },
  {
   "cell_type": "code",
   "execution_count": 55,
   "metadata": {},
   "outputs": [
    {
     "name": "stdout",
     "output_type": "stream",
     "text": [
      "['spider man', 'thor', 'hulk', 'black panther', 'iron', 'captain']\n"
     ]
    }
   ],
   "source": [
    "# 3. You realize that you need to add 'black panther' after 'hulk',\n",
    "# so remove it from the list first and then add it after 'hulk'\n",
    "heros.remove('black panther')\n",
    "heros.insert(3, 'black panther')\n",
    "print(heros)"
   ]
  },
  {
   "cell_type": "code",
   "execution_count": 56,
   "metadata": {},
   "outputs": [
    {
     "name": "stdout",
     "output_type": "stream",
     "text": [
      "['spider man', 'doctor strange', 'black panther', 'iron', 'captain']\n"
     ]
    }
   ],
   "source": [
    "# 4. Now you don't like thor and hulk because they get angry easily :)\n",
    "# So you want to remove thor and hulk from list and replace them with doctor strange (because he is cool).\n",
    "# Do that with one line of code.\n",
    "heros[1:3] = ['doctor strange']\n",
    "print(heros)"
   ]
  },
  {
   "cell_type": "code",
   "execution_count": 43,
   "metadata": {},
   "outputs": [
    {
     "data": {
      "text/plain": [
       "['__add__',\n",
       " '__class__',\n",
       " '__class_getitem__',\n",
       " '__contains__',\n",
       " '__delattr__',\n",
       " '__delitem__',\n",
       " '__dir__',\n",
       " '__doc__',\n",
       " '__eq__',\n",
       " '__format__',\n",
       " '__ge__',\n",
       " '__getattribute__',\n",
       " '__getitem__',\n",
       " '__gt__',\n",
       " '__hash__',\n",
       " '__iadd__',\n",
       " '__imul__',\n",
       " '__init__',\n",
       " '__init_subclass__',\n",
       " '__iter__',\n",
       " '__le__',\n",
       " '__len__',\n",
       " '__lt__',\n",
       " '__mul__',\n",
       " '__ne__',\n",
       " '__new__',\n",
       " '__reduce__',\n",
       " '__reduce_ex__',\n",
       " '__repr__',\n",
       " '__reversed__',\n",
       " '__rmul__',\n",
       " '__setattr__',\n",
       " '__setitem__',\n",
       " '__sizeof__',\n",
       " '__str__',\n",
       " '__subclasshook__',\n",
       " 'append',\n",
       " 'clear',\n",
       " 'copy',\n",
       " 'count',\n",
       " 'extend',\n",
       " 'index',\n",
       " 'insert',\n",
       " 'pop',\n",
       " 'remove',\n",
       " 'reverse',\n",
       " 'sort']"
      ]
     },
     "execution_count": 43,
     "metadata": {},
     "output_type": "execute_result"
    }
   ],
   "source": [
    "# 5. Sort the heros list in alphabetical order (Hint. Use dir() functions to list down all functions available in list)\n",
    "dir(heros)"
   ]
  },
  {
   "cell_type": "code",
   "execution_count": 57,
   "metadata": {},
   "outputs": [
    {
     "name": "stdout",
     "output_type": "stream",
     "text": [
      "['black panther', 'captain', 'doctor strange', 'iron', 'spider man']\n"
     ]
    }
   ],
   "source": [
    "heros.sort()\n",
    "print(heros)"
   ]
  }
 ],
 "metadata": {
  "kernelspec": {
   "display_name": "Python 3",
   "language": "python",
   "name": "python3"
  },
  "language_info": {
   "codemirror_mode": {
    "name": "ipython",
    "version": 3
   },
   "file_extension": ".py",
   "mimetype": "text/x-python",
   "name": "python",
   "nbconvert_exporter": "python",
   "pygments_lexer": "ipython3",
   "version": "3.9.9"
  }
 },
 "nbformat": 4,
 "nbformat_minor": 2
}
