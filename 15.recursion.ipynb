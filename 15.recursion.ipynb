{
 "cells": [
  {
   "cell_type": "markdown",
   "metadata": {},
   "source": [
    "# Recursion"
   ]
  },
  {
   "cell_type": "markdown",
   "metadata": {},
   "source": [
    "There are three basic stpes in recursion\n",
    "\n",
    "1. Divide a bigger problem in a smaller problem\n",
    "\n",
    "2. You need to have a Base condition\n",
    "\n",
    "3. Once you have a base conditon you roll back answer for base condition to solve all sub problems"
   ]
  },
  {
   "cell_type": "markdown",
   "metadata": {},
   "source": [
    "First we will check out the iterative approach"
   ]
  },
  {
   "cell_type": "code",
   "execution_count": 5,
   "metadata": {},
   "outputs": [
    {
     "name": "stdout",
     "output_type": "stream",
     "text": [
      "15\n"
     ]
    }
   ],
   "source": [
    "# Find Sum\n",
    "\n",
    "def find_sum(num):\n",
    "    sum = 0\n",
    "    for i in range (1, num+1):\n",
    "        sum += i\n",
    "    return sum\n",
    "\n",
    "if __name__ == '__main__':\n",
    "    num = int(input(\"Enter a number: \"))\n",
    "    print(find_sum(num))"
   ]
  },
  {
   "cell_type": "markdown",
   "metadata": {},
   "source": [
    "Solving the above problem using recursion"
   ]
  },
  {
   "cell_type": "code",
   "execution_count": 6,
   "metadata": {},
   "outputs": [
    {
     "name": "stdout",
     "output_type": "stream",
     "text": [
      "15\n"
     ]
    }
   ],
   "source": [
    "def find_sum(num):\n",
    "    if num == 1:\n",
    "        return 1\n",
    "    else:\n",
    "        return num + find_sum(num-1)\n",
    "    \n",
    "if __name__ == '__main__':\n",
    "    num = int(input(\"Enter a number: \"))\n",
    "    print(find_sum(num))"
   ]
  },
  {
   "cell_type": "code",
   "execution_count": null,
   "metadata": {},
   "outputs": [],
   "source": [
    "6 + 5 + 4 + 3 + 2 + 1 = 21"
   ]
  },
  {
   "cell_type": "markdown",
   "metadata": {},
   "source": [
    "**Fubunocci number problem using recursion**"
   ]
  },
  {
   "cell_type": "code",
   "execution_count": 9,
   "metadata": {},
   "outputs": [
    {
     "name": "stdout",
     "output_type": "stream",
     "text": [
      "8\n"
     ]
    }
   ],
   "source": [
    "def fib(num):\n",
    "    if num==0 or num==1:\n",
    "        return num\n",
    "    else:\n",
    "        return fib(num-1) + fib(num-2)\n",
    "    \n",
    "if __name__ == '__main__':\n",
    "    num = int(input(\"Enter a number: \"))\n",
    "    print(fib(num))"
   ]
  },
  {
   "cell_type": "code",
   "execution_count": null,
   "metadata": {},
   "outputs": [],
   "source": [
    "6\n",
    "5 + 4\n",
    "4 + 3, 3 + 2\n",
    "3 + 2, 2 + 1, 2 + 1, 1 + 0\n",
    "2 + 1, 1 + 0, 1, 1 + 0, 1, 1, 0"
   ]
  },
  {
   "cell_type": "markdown",
   "metadata": {},
   "source": [
    "**Binary Search through recursion**"
   ]
  },
  {
   "cell_type": "code",
   "execution_count": 19,
   "metadata": {},
   "outputs": [
    {
     "name": "stdout",
     "output_type": "stream",
     "text": [
      "The target is at index:  8\n"
     ]
    }
   ],
   "source": [
    "def binary_search_recursive(arr, target, low, high):\n",
    "    if low > high:\n",
    "        return False\n",
    "    else:\n",
    "        mid = (low + high) // 2\n",
    "        if target == arr[mid]:\n",
    "            return mid\n",
    "        elif target < arr[mid]:\n",
    "            return binary_search_recursive(arr, target, low, mid-1)\n",
    "        else:\n",
    "            return binary_search_recursive(arr, target, mid+1, high)\n",
    "\n",
    "if __name__ == '__main__':\n",
    "    arr = [1, 2, 3, 4, 5, 6, 7, 8, 9]\n",
    "    target = 9\n",
    "    low = 0\n",
    "    high = len(arr) - 1\n",
    "    index = binary_search_recursive(arr, target, low, high)\n",
    "    if index != False:\n",
    "        print(\"The target is at index: \", index)\n",
    "    else:\n",
    "        print(\"The target is not in the list\")"
   ]
  },
  {
   "cell_type": "code",
   "execution_count": 12,
   "metadata": {},
   "outputs": [
    {
     "name": "stdout",
     "output_type": "stream",
     "text": [
      "9\n"
     ]
    }
   ],
   "source": [
    "if __name__ == '__main__':\n",
    "    arr = [1, 2, 3, 4, 5, 6, 7, 8, 9]\n",
    "    print(len(arr))"
   ]
  }
 ],
 "metadata": {
  "kernelspec": {
   "display_name": "Python 3",
   "language": "python",
   "name": "python3"
  },
  "language_info": {
   "codemirror_mode": {
    "name": "ipython",
    "version": 3
   },
   "file_extension": ".py",
   "mimetype": "text/x-python",
   "name": "python",
   "nbconvert_exporter": "python",
   "pygments_lexer": "ipython3",
   "version": "3.9.9"
  }
 },
 "nbformat": 4,
 "nbformat_minor": 2
}
