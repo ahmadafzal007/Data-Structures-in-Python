{
 "cells": [
  {
   "cell_type": "markdown",
   "metadata": {},
   "source": [
    "# General Trees"
   ]
  },
  {
   "cell_type": "code",
   "execution_count": 52,
   "metadata": {},
   "outputs": [],
   "source": [
    "class Tree:\n",
    "    def __init__(self, data):\n",
    "        self.data = data\n",
    "        self.parent = None\n",
    "        self.child = []\n",
    "    \n",
    "    def add_child(self, child):\n",
    "        child.parent = self\n",
    "        self.child.append(child)\n",
    "    \n",
    "    def get_level(self):\n",
    "        level = 0\n",
    "        p = self.parent\n",
    "        while p:\n",
    "            level += 1\n",
    "            p = p.parent\n",
    "        return level\n",
    "\n",
    "    def print_tree(self):\n",
    "        spaces = ' ' * self.get_level() * 3\n",
    "        prefix = spaces + \"|__\" if self.parent else \"\"\n",
    "        print(prefix + self.data)\n",
    "        if self.child:\n",
    "            for child in self.child:\n",
    "                child.print_tree()\n",
    "    \n",
    "    def print_above_tree_levels(self, level):\n",
    "        if self.get_level() <= level:\n",
    "            spaces = ' ' * self.get_level() * 3\n",
    "            prefix = spaces + \"|__\" if self.parent else \"\"\n",
    "            print(prefix + self.data)\n",
    "            if self.child:\n",
    "                for child in self.child:\n",
    "                    child.print_above_tree_levels(level)"
   ]
  },
  {
   "cell_type": "code",
   "execution_count": 50,
   "metadata": {},
   "outputs": [],
   "source": [
    "def built_product_tree():\n",
    "    root = Tree(\"Electronics\")\n",
    "    laptop = Tree(\"Laptop\")\n",
    "    root.add_child(laptop)\n",
    "    mac = Tree(\"Mac\")\n",
    "    laptop.add_child(mac)\n",
    "    mac.add_child(Tree(\"Macbook Pro\"))\n",
    "    mac.add_child(Tree(\"Macbook Air\"))\n",
    "    mac.add_child(Tree(\"Macbook\"))\n",
    "    laptop.add_child(Tree(\"Lenovo\"))\n",
    "    laptop.add_child(Tree(\"Dell\"))\n",
    "    tv = Tree(\"TV\")\n",
    "    root.add_child(tv)\n",
    "    tv.add_child(Tree(\"Samsung\"))\n",
    "    tv.add_child(Tree(\"LG\"))\n",
    "    tv.add_child(Tree(\"Sony\"))\n",
    "\n",
    "    # print(\"The level of TV is: \",tv.get_level())\n",
    "    return root"
   ]
  },
  {
   "cell_type": "code",
   "execution_count": 25,
   "metadata": {},
   "outputs": [
    {
     "name": "stdout",
     "output_type": "stream",
     "text": [
      "The level of TV is:  1\n",
      "The level of root branch is:  0\n"
     ]
    }
   ],
   "source": [
    "if __name__ == \"__main__\":\n",
    "    print(\"The level of root branch is: \",root.get_level())"
   ]
  },
  {
   "cell_type": "code",
   "execution_count": 41,
   "metadata": {},
   "outputs": [
    {
     "name": "stdout",
     "output_type": "stream",
     "text": [
      "Electronics\n",
      "   |__Laptop\n",
      "      |__Mac\n",
      "         |__Macbook Pro\n",
      "         |__Macbook Air\n",
      "         |__Macbook\n",
      "      |__Lenovo\n",
      "      |__Dell\n",
      "   |__TV\n",
      "      |__Samsung\n",
      "      |__LG\n",
      "      |__Sony\n"
     ]
    }
   ],
   "source": [
    "if __name__ == \"__main__\":\n",
    "    root = built_product_tree()\n",
    "    root.print_tree()"
   ]
  },
  {
   "cell_type": "code",
   "execution_count": 54,
   "metadata": {},
   "outputs": [
    {
     "name": "stdout",
     "output_type": "stream",
     "text": [
      "Electronics\n",
      "   |__Laptop\n",
      "   |__TV\n"
     ]
    }
   ],
   "source": [
    "if __name__ == \"__main__\":\n",
    "    root = built_product_tree()\n",
    "    root.print_above_tree_levels(1)"
   ]
  }
 ],
 "metadata": {
  "kernelspec": {
   "display_name": "Python 3",
   "language": "python",
   "name": "python3"
  },
  "language_info": {
   "codemirror_mode": {
    "name": "ipython",
    "version": 3
   },
   "file_extension": ".py",
   "mimetype": "text/x-python",
   "name": "python",
   "nbconvert_exporter": "python",
   "pygments_lexer": "ipython3",
   "version": "3.9.9"
  }
 },
 "nbformat": 4,
 "nbformat_minor": 2
}
